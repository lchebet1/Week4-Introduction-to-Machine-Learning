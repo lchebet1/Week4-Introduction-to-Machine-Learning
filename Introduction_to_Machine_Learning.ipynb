{
  "nbformat": 4,
  "nbformat_minor": 0,
  "metadata": {
    "colab": {
      "provenance": []
    },
    "kernelspec": {
      "name": "python3",
      "display_name": "Python 3"
    },
    "language_info": {
      "name": "python"
    }
  },
  "cells": [
    {
      "cell_type": "markdown",
      "metadata": {
        "id": "DGb9lZPLLjJC"
      },
      "source": [
        "#Introduction to machine learning\n",
        "## New Models: Random Forest"
      ]
    },
    {
      "cell_type": "markdown",
      "metadata": {
        "id": "gfSowsy_LoKZ"
      },
      "source": [
        "## Question"
      ]
    },
    {
      "cell_type": "markdown",
      "metadata": {
        "id": "C1enEvozLkmw"
      },
      "source": [
        "Train a random forest model. The test set accuracy should be at least 0.88.\n",
        "\n",
        "**Hint**\n",
        "\n",
        "Try n_estimators values from 1 to 10. Pick the option with the best quality for the validation set.\n",
        "\n"
      ]
    },
    {
      "cell_type": "code",
      "metadata": {
        "id": "b_EASYGtLesK"
      },
      "source": [
        "import pandas as pd\n",
        "from sklearn.ensemble import RandomForestClassifier\n",
        "from sklearn.tree import DecisionTreeClassifier\n",
        "from sklearn.metrics import accuracy_score\n",
        "from sklearn.model_selection import train_test_split\n",
        "from sklearn.linear_model import LogisticRegression\n",
        "\n"
      ],
      "execution_count": null,
      "outputs": []
    },
    {
      "cell_type": "code",
      "source": [
        "#import our data and preview the data\n",
        "hrdataset_df = pd.read_csv('hrdataset.csv')\n",
        "hrdataset_df.head()\n",
        "hrdataset_df.sample(10)\n",
        "hrdataset_df.shape"
      ],
      "metadata": {
        "colab": {
          "base_uri": "https://localhost:8080/"
        },
        "id": "tNXKFx9tRTK0",
        "outputId": "0bff8613-9c92-43e5-97b2-d1fc776636a3"
      },
      "execution_count": null,
      "outputs": [
        {
          "output_type": "execute_result",
          "data": {
            "text/plain": [
              "(54808, 14)"
            ]
          },
          "metadata": {},
          "execution_count": 67
        }
      ]
    },
    {
      "cell_type": "code",
      "source": [
        "#check for missing, duplicates, and columns name\n",
        "hrdataset_df.isnull().sum() #education and previous_year_rating columns have many missing values, drop them\n",
        "hrdataset_df.duplicated().any() #no duplicated observation\n",
        "hrdataset_df.dtypes #data type okey for the variable values\n",
        "hrdataset_df.nunique() #check uniques values per columns. column 'is_promoted' is classification label\n",
        "hrdataset_df.columns #columns start with capital\n"
      ],
      "metadata": {
        "id": "_ojcLcHpxMOM"
      },
      "execution_count": null,
      "outputs": []
    },
    {
      "cell_type": "code",
      "source": [
        "\n",
        "#clean the data, drop missing value, and standardise the columns name\n",
        "hrdataset_df.columns = hrdataset_df.columns.str.lower().str.strip().str.replace(\"?\", \"\").str.replace('>','').str.replace('%','').str.replace(' ','')\n",
        "hrdataset_df.columns"
      ],
      "metadata": {
        "colab": {
          "base_uri": "https://localhost:8080/"
        },
        "id": "6-dHQ90nzoSE",
        "outputId": "315d2ce4-5c45-48df-b65e-c61f5c0f59e9"
      },
      "execution_count": null,
      "outputs": [
        {
          "output_type": "stream",
          "name": "stderr",
          "text": [
            "/usr/local/lib/python3.7/dist-packages/ipykernel_launcher.py:2: FutureWarning: The default value of regex will change from True to False in a future version. In addition, single character regular expressions will *not* be treated as literal strings when regex=True.\n",
            "  \n"
          ]
        },
        {
          "output_type": "execute_result",
          "data": {
            "text/plain": [
              "Index(['employee_id', 'department', 'region', 'education', 'gender',\n",
              "       'recruitment_channel', 'no_of_trainings', 'age', 'previous_year_rating',\n",
              "       'length_of_service', 'kpis_met80', 'awards_won', 'avg_training_score',\n",
              "       'is_promoted'],\n",
              "      dtype='object')"
            ]
          },
          "metadata": {},
          "execution_count": 68
        }
      ]
    },
    {
      "cell_type": "code",
      "source": [
        "#drop columns with missing data and objest type of columns\n",
        "cleaned_df = hrdataset_df.drop(columns=['employee_id','department','gender','recruitment_channel','previous_year_rating', 'education','region'])\n",
        "\n",
        "cleaned_df.head()\n"
      ],
      "metadata": {
        "id": "D_W6xST8JxRk",
        "outputId": "b0d07d1c-0f40-4f02-c11f-428341466256",
        "colab": {
          "base_uri": "https://localhost:8080/",
          "height": 206
        }
      },
      "execution_count": null,
      "outputs": [
        {
          "output_type": "execute_result",
          "data": {
            "text/plain": [
              "   no_of_trainings  age  length_of_service  kpis_met80  awards_won  \\\n",
              "0                1   35                  8           1           0   \n",
              "1                1   30                  4           0           0   \n",
              "2                1   34                  7           0           0   \n",
              "3                2   39                 10           0           0   \n",
              "4                1   45                  2           0           0   \n",
              "\n",
              "   avg_training_score  is_promoted  \n",
              "0                  49            0  \n",
              "1                  60            0  \n",
              "2                  50            0  \n",
              "3                  50            0  \n",
              "4                  73            0  "
            ],
            "text/html": [
              "\n",
              "  <div id=\"df-3986d1fd-bc50-4228-a3e3-550900c6bb14\">\n",
              "    <div class=\"colab-df-container\">\n",
              "      <div>\n",
              "<style scoped>\n",
              "    .dataframe tbody tr th:only-of-type {\n",
              "        vertical-align: middle;\n",
              "    }\n",
              "\n",
              "    .dataframe tbody tr th {\n",
              "        vertical-align: top;\n",
              "    }\n",
              "\n",
              "    .dataframe thead th {\n",
              "        text-align: right;\n",
              "    }\n",
              "</style>\n",
              "<table border=\"1\" class=\"dataframe\">\n",
              "  <thead>\n",
              "    <tr style=\"text-align: right;\">\n",
              "      <th></th>\n",
              "      <th>no_of_trainings</th>\n",
              "      <th>age</th>\n",
              "      <th>length_of_service</th>\n",
              "      <th>kpis_met80</th>\n",
              "      <th>awards_won</th>\n",
              "      <th>avg_training_score</th>\n",
              "      <th>is_promoted</th>\n",
              "    </tr>\n",
              "  </thead>\n",
              "  <tbody>\n",
              "    <tr>\n",
              "      <th>0</th>\n",
              "      <td>1</td>\n",
              "      <td>35</td>\n",
              "      <td>8</td>\n",
              "      <td>1</td>\n",
              "      <td>0</td>\n",
              "      <td>49</td>\n",
              "      <td>0</td>\n",
              "    </tr>\n",
              "    <tr>\n",
              "      <th>1</th>\n",
              "      <td>1</td>\n",
              "      <td>30</td>\n",
              "      <td>4</td>\n",
              "      <td>0</td>\n",
              "      <td>0</td>\n",
              "      <td>60</td>\n",
              "      <td>0</td>\n",
              "    </tr>\n",
              "    <tr>\n",
              "      <th>2</th>\n",
              "      <td>1</td>\n",
              "      <td>34</td>\n",
              "      <td>7</td>\n",
              "      <td>0</td>\n",
              "      <td>0</td>\n",
              "      <td>50</td>\n",
              "      <td>0</td>\n",
              "    </tr>\n",
              "    <tr>\n",
              "      <th>3</th>\n",
              "      <td>2</td>\n",
              "      <td>39</td>\n",
              "      <td>10</td>\n",
              "      <td>0</td>\n",
              "      <td>0</td>\n",
              "      <td>50</td>\n",
              "      <td>0</td>\n",
              "    </tr>\n",
              "    <tr>\n",
              "      <th>4</th>\n",
              "      <td>1</td>\n",
              "      <td>45</td>\n",
              "      <td>2</td>\n",
              "      <td>0</td>\n",
              "      <td>0</td>\n",
              "      <td>73</td>\n",
              "      <td>0</td>\n",
              "    </tr>\n",
              "  </tbody>\n",
              "</table>\n",
              "</div>\n",
              "      <button class=\"colab-df-convert\" onclick=\"convertToInteractive('df-3986d1fd-bc50-4228-a3e3-550900c6bb14')\"\n",
              "              title=\"Convert this dataframe to an interactive table.\"\n",
              "              style=\"display:none;\">\n",
              "        \n",
              "  <svg xmlns=\"http://www.w3.org/2000/svg\" height=\"24px\"viewBox=\"0 0 24 24\"\n",
              "       width=\"24px\">\n",
              "    <path d=\"M0 0h24v24H0V0z\" fill=\"none\"/>\n",
              "    <path d=\"M18.56 5.44l.94 2.06.94-2.06 2.06-.94-2.06-.94-.94-2.06-.94 2.06-2.06.94zm-11 1L8.5 8.5l.94-2.06 2.06-.94-2.06-.94L8.5 2.5l-.94 2.06-2.06.94zm10 10l.94 2.06.94-2.06 2.06-.94-2.06-.94-.94-2.06-.94 2.06-2.06.94z\"/><path d=\"M17.41 7.96l-1.37-1.37c-.4-.4-.92-.59-1.43-.59-.52 0-1.04.2-1.43.59L10.3 9.45l-7.72 7.72c-.78.78-.78 2.05 0 2.83L4 21.41c.39.39.9.59 1.41.59.51 0 1.02-.2 1.41-.59l7.78-7.78 2.81-2.81c.8-.78.8-2.07 0-2.86zM5.41 20L4 18.59l7.72-7.72 1.47 1.35L5.41 20z\"/>\n",
              "  </svg>\n",
              "      </button>\n",
              "      \n",
              "  <style>\n",
              "    .colab-df-container {\n",
              "      display:flex;\n",
              "      flex-wrap:wrap;\n",
              "      gap: 12px;\n",
              "    }\n",
              "\n",
              "    .colab-df-convert {\n",
              "      background-color: #E8F0FE;\n",
              "      border: none;\n",
              "      border-radius: 50%;\n",
              "      cursor: pointer;\n",
              "      display: none;\n",
              "      fill: #1967D2;\n",
              "      height: 32px;\n",
              "      padding: 0 0 0 0;\n",
              "      width: 32px;\n",
              "    }\n",
              "\n",
              "    .colab-df-convert:hover {\n",
              "      background-color: #E2EBFA;\n",
              "      box-shadow: 0px 1px 2px rgba(60, 64, 67, 0.3), 0px 1px 3px 1px rgba(60, 64, 67, 0.15);\n",
              "      fill: #174EA6;\n",
              "    }\n",
              "\n",
              "    [theme=dark] .colab-df-convert {\n",
              "      background-color: #3B4455;\n",
              "      fill: #D2E3FC;\n",
              "    }\n",
              "\n",
              "    [theme=dark] .colab-df-convert:hover {\n",
              "      background-color: #434B5C;\n",
              "      box-shadow: 0px 1px 3px 1px rgba(0, 0, 0, 0.15);\n",
              "      filter: drop-shadow(0px 1px 2px rgba(0, 0, 0, 0.3));\n",
              "      fill: #FFFFFF;\n",
              "    }\n",
              "  </style>\n",
              "\n",
              "      <script>\n",
              "        const buttonEl =\n",
              "          document.querySelector('#df-3986d1fd-bc50-4228-a3e3-550900c6bb14 button.colab-df-convert');\n",
              "        buttonEl.style.display =\n",
              "          google.colab.kernel.accessAllowed ? 'block' : 'none';\n",
              "\n",
              "        async function convertToInteractive(key) {\n",
              "          const element = document.querySelector('#df-3986d1fd-bc50-4228-a3e3-550900c6bb14');\n",
              "          const dataTable =\n",
              "            await google.colab.kernel.invokeFunction('convertToInteractive',\n",
              "                                                     [key], {});\n",
              "          if (!dataTable) return;\n",
              "\n",
              "          const docLinkHtml = 'Like what you see? Visit the ' +\n",
              "            '<a target=\"_blank\" href=https://colab.research.google.com/notebooks/data_table.ipynb>data table notebook</a>'\n",
              "            + ' to learn more about interactive tables.';\n",
              "          element.innerHTML = '';\n",
              "          dataTable['output_type'] = 'display_data';\n",
              "          await google.colab.output.renderOutput(dataTable, element);\n",
              "          const docLink = document.createElement('div');\n",
              "          docLink.innerHTML = docLinkHtml;\n",
              "          element.appendChild(docLink);\n",
              "        }\n",
              "      </script>\n",
              "    </div>\n",
              "  </div>\n",
              "  "
            ]
          },
          "metadata": {},
          "execution_count": 69
        }
      ]
    },
    {
      "cell_type": "code",
      "source": [
        "#data modeling\n",
        "#since there is no separate test dataset create train and validation dataset\n",
        "#use train and test split function. \n",
        "#when using the valid_df no model achieved accuracy of >=0.85\n",
        "train_df, valid_df = train_test_split(cleaned_df, test_size=0.25, random_state=1234)\n",
        "print(train_df.shape)\n",
        "print(valid_df.shape)\n"
      ],
      "metadata": {
        "colab": {
          "base_uri": "https://localhost:8080/"
        },
        "id": "ka3rTc87z1wB",
        "outputId": "fc6f8203-e8ef-4011-ffd0-ea49d094998e"
      },
      "execution_count": null,
      "outputs": [
        {
          "output_type": "stream",
          "name": "stdout",
          "text": [
            "(41106, 7)\n",
            "(13702, 7)\n"
          ]
        }
      ]
    },
    {
      "cell_type": "code",
      "source": [
        "#create features and target for both train and test\n",
        "features_train = train_df.drop(columns=['is_promoted'])\n",
        "target_train = train_df['is_promoted']\n",
        "features_valid = valid_df.drop(columns=['is_promoted'])\n",
        "target_valid = valid_df['is_promoted']\n",
        "\n",
        "#create a model for Decision Trees, Random Forest and Logistic Regression\n",
        "#model for Decision Trees, declare and find the ideal depth for the tree\n",
        "for d in range(1, 11, 1):\n",
        "  model = DecisionTreeClassifier(random_state=1234, max_depth=d)\n",
        "  model.fit(features_train, target_train)  #train the model\n",
        "  #check for accuracy\n",
        "  print(f'Decision tree has accuracy of: {model.score(features_valid, target_valid)} for depth of: {d}')\n",
        "\n",
        "# #declare model for random forest and find the best n_estimator value\n",
        "# for n in range(1,20,1):\n",
        "#   forest_model = RandomForestClassifier(random_state=1234, n_estimators=n)\n",
        "#   forest_model.fit(features_train, target_train)\n",
        "#   print(f'Random forest has accuracy of: {forest_model.score(features_train, target_train)} for n={n}')\n",
        "\n",
        "# #declare a model for logistic regression\n",
        "# log_model = LogisticRegression(random_state=1234, solver='liblinear')\n",
        "# log_model.fit(features_train, target_train)\n",
        "# print(f'logistic regression has accuracy of: {log_model.score(features_train, target_train)}')\n",
        "\n",
        "\n"
      ],
      "metadata": {
        "colab": {
          "base_uri": "https://localhost:8080/"
        },
        "id": "VCD2qH545SgE",
        "outputId": "961daaf9-9d83-4550-acc0-3047a1ec3d7f"
      },
      "execution_count": null,
      "outputs": [
        {
          "output_type": "stream",
          "name": "stdout",
          "text": [
            "Decision tree has accuracy of: 0.9216172821485914 for depth of: 1\n",
            "Decision tree has accuracy of: 0.9216172821485914 for depth of: 2\n",
            "Decision tree has accuracy of: 0.9216172821485914 for depth of: 3\n",
            "Decision tree has accuracy of: 0.9241716537731718 for depth of: 4\n",
            "Decision tree has accuracy of: 0.923952707633922 for depth of: 5\n",
            "Decision tree has accuracy of: 0.923441833309006 for depth of: 6\n",
            "Decision tree has accuracy of: 0.9235877974018392 for depth of: 7\n",
            "Decision tree has accuracy of: 0.9227849948912568 for depth of: 8\n",
            "Decision tree has accuracy of: 0.9232228871697562 for depth of: 9\n",
            "Decision tree has accuracy of: 0.9217632462414246 for depth of: 10\n"
          ]
        }
      ]
    },
    {
      "cell_type": "code",
      "source": [],
      "metadata": {
        "id": "0WqM7AtGDnuf"
      },
      "execution_count": null,
      "outputs": []
    },
    {
      "cell_type": "markdown",
      "source": [
        "###Finding and Recommendation\n",
        "*   Decision tree gives an accuracy of 0.92 regardless of the tree depth which is a good accuracy\n",
        "*   With the trained model is now possible given a new observations to predict whether that employee will be promoted \n",
        "\n",
        "\n",
        "\n",
        "\n",
        "\n",
        "\n"
      ],
      "metadata": {
        "id": "jz-oMDgjDqnz"
      }
    },
    {
      "cell_type": "code",
      "source": [],
      "metadata": {
        "id": "uuZQjxkyGyUB"
      },
      "execution_count": null,
      "outputs": []
    }
  ]
}